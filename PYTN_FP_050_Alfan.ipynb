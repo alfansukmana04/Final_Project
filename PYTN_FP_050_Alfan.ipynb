{
 "cells": [
  {
   "cell_type": "markdown",
   "metadata": {},
   "source": [
    "# Final Project Python 050 Alfan S. Praja\n",
    "Data yang digunakan merupakan data cuaca yang diperoleh dari \n",
    "https://www.kaggle.com/budincsevity/szeged-weather\n",
    "\n",
    "\n",
    "Tipe presipitasi yang terekam dalam data tersebut adalah hujan dan salju. pengaruh temperatur sangat erat kaitannya dengan tipe presipitasi. temperatur > 0 , umumnya akan mengalami presipitasi jenis hujan. sedangkan temperatur < 0 umumnya mengalami presipitasi tipe salju. pada penelitian ini akan diprediksi tipe presipitasi hujan berdasarkan nilai parameter Humidity, Pressure dan Kecepatan angin. "
   ]
  },
  {
   "cell_type": "code",
   "execution_count": 180,
   "metadata": {},
   "outputs": [],
   "source": [
    "# Get your import statement here\n",
    "import numpy as np\n",
    "import pandas as pd\n",
    "import math\n",
    "import statistics\n",
    "import scipy.stats\n",
    "import seaborn as sns\n",
    "%matplotlib inline\n",
    "import matplotlib.pyplot as plt\n",
    "from sklearn.preprocessing import LabelEncoder\n",
    "from sklearn.model_selection import train_test_split\n",
    "from sklearn.tree import DecisionTreeClassifier\n",
    "from sklearn.ensemble import RandomForestClassifier"
   ]
  },
  {
   "cell_type": "code",
   "execution_count": 181,
   "metadata": {
    "scrolled": true
   },
   "outputs": [
    {
     "name": "stdout",
     "output_type": "stream",
     "text": [
      "Data read into a pandas dataframe!\n"
     ]
    }
   ],
   "source": [
    "#Load your dataset here\n",
    "dfw = pd.read_csv('dataset/weatherHistory.csv')\n",
    "print ('Data read into a pandas dataframe!')"
   ]
  },
  {
   "cell_type": "code",
   "execution_count": 182,
   "metadata": {},
   "outputs": [
    {
     "name": "stdout",
     "output_type": "stream",
     "text": [
      "<class 'pandas.core.frame.DataFrame'>\n",
      "RangeIndex: 96453 entries, 0 to 96452\n",
      "Data columns (total 12 columns):\n",
      " #   Column                    Non-Null Count  Dtype  \n",
      "---  ------                    --------------  -----  \n",
      " 0   Formatted Date            96453 non-null  object \n",
      " 1   Summary                   96453 non-null  object \n",
      " 2   Precip Type               95936 non-null  object \n",
      " 3   Temperature (C)           96453 non-null  float64\n",
      " 4   Apparent Temperature (C)  96453 non-null  float64\n",
      " 5   Humidity                  96453 non-null  float64\n",
      " 6   Wind Speed (km/h)         96453 non-null  float64\n",
      " 7   Wind Bearing (degrees)    96453 non-null  float64\n",
      " 8   Visibility (km)           96453 non-null  float64\n",
      " 9   Loud Cover                96453 non-null  float64\n",
      " 10  Pressure (millibars)      96453 non-null  float64\n",
      " 11  Daily Summary             96453 non-null  object \n",
      "dtypes: float64(8), object(4)\n",
      "memory usage: 8.8+ MB\n"
     ]
    }
   ],
   "source": [
    "dfw.info()"
   ]
  },
  {
   "cell_type": "markdown",
   "metadata": {},
   "source": [
    "selanjutnya memeriksa keberadaan null data pada data yang diolah."
   ]
  },
  {
   "cell_type": "code",
   "execution_count": 183,
   "metadata": {
    "scrolled": false
   },
   "outputs": [
    {
     "data": {
      "text/plain": [
       "Formatted Date              0.00\n",
       "Summary                     0.00\n",
       "Precip Type                 0.54\n",
       "Temperature (C)             0.00\n",
       "Apparent Temperature (C)    0.00\n",
       "Humidity                    0.00\n",
       "Wind Speed (km/h)           0.00\n",
       "Wind Bearing (degrees)      0.00\n",
       "Visibility (km)             0.00\n",
       "Loud Cover                  0.00\n",
       "Pressure (millibars)        0.00\n",
       "Daily Summary               0.00\n",
       "dtype: float64"
      ]
     },
     "execution_count": 183,
     "metadata": {},
     "output_type": "execute_result"
    }
   ],
   "source": [
    "round(100*(dfw.isnull().sum()/len(dfw.index)),2)"
   ]
  },
  {
   "cell_type": "markdown",
   "metadata": {},
   "source": [
    "Pada data Precip Type terdapat 0,54% data yang null, sehingga selanjutnya akan di drop data tersebut."
   ]
  },
  {
   "cell_type": "markdown",
   "metadata": {},
   "source": []
  },
  {
   "cell_type": "code",
   "execution_count": 184,
   "metadata": {},
   "outputs": [],
   "source": [
    "dfwn = dfw.dropna()"
   ]
  },
  {
   "cell_type": "code",
   "execution_count": 185,
   "metadata": {},
   "outputs": [
    {
     "data": {
      "text/html": [
       "<div>\n",
       "<style scoped>\n",
       "    .dataframe tbody tr th:only-of-type {\n",
       "        vertical-align: middle;\n",
       "    }\n",
       "\n",
       "    .dataframe tbody tr th {\n",
       "        vertical-align: top;\n",
       "    }\n",
       "\n",
       "    .dataframe thead th {\n",
       "        text-align: right;\n",
       "    }\n",
       "</style>\n",
       "<table border=\"1\" class=\"dataframe\">\n",
       "  <thead>\n",
       "    <tr style=\"text-align: right;\">\n",
       "      <th></th>\n",
       "      <th>Formatted Date</th>\n",
       "      <th>Summary</th>\n",
       "      <th>Precip Type</th>\n",
       "      <th>Temperature (C)</th>\n",
       "      <th>Apparent Temperature (C)</th>\n",
       "      <th>Humidity</th>\n",
       "      <th>Wind Speed (km/h)</th>\n",
       "      <th>Wind Bearing (degrees)</th>\n",
       "      <th>Visibility (km)</th>\n",
       "      <th>Loud Cover</th>\n",
       "      <th>Pressure (millibars)</th>\n",
       "      <th>Daily Summary</th>\n",
       "    </tr>\n",
       "  </thead>\n",
       "  <tbody>\n",
       "    <tr>\n",
       "      <th>0</th>\n",
       "      <td>2006-04-01 00:00:00.000 +0200</td>\n",
       "      <td>Partly Cloudy</td>\n",
       "      <td>rain</td>\n",
       "      <td>9.472222</td>\n",
       "      <td>7.388889</td>\n",
       "      <td>0.89</td>\n",
       "      <td>14.1197</td>\n",
       "      <td>251.0</td>\n",
       "      <td>15.8263</td>\n",
       "      <td>0.0</td>\n",
       "      <td>1015.13</td>\n",
       "      <td>Partly cloudy throughout the day.</td>\n",
       "    </tr>\n",
       "    <tr>\n",
       "      <th>1</th>\n",
       "      <td>2006-04-01 01:00:00.000 +0200</td>\n",
       "      <td>Partly Cloudy</td>\n",
       "      <td>rain</td>\n",
       "      <td>9.355556</td>\n",
       "      <td>7.227778</td>\n",
       "      <td>0.86</td>\n",
       "      <td>14.2646</td>\n",
       "      <td>259.0</td>\n",
       "      <td>15.8263</td>\n",
       "      <td>0.0</td>\n",
       "      <td>1015.63</td>\n",
       "      <td>Partly cloudy throughout the day.</td>\n",
       "    </tr>\n",
       "    <tr>\n",
       "      <th>2</th>\n",
       "      <td>2006-04-01 02:00:00.000 +0200</td>\n",
       "      <td>Mostly Cloudy</td>\n",
       "      <td>rain</td>\n",
       "      <td>9.377778</td>\n",
       "      <td>9.377778</td>\n",
       "      <td>0.89</td>\n",
       "      <td>3.9284</td>\n",
       "      <td>204.0</td>\n",
       "      <td>14.9569</td>\n",
       "      <td>0.0</td>\n",
       "      <td>1015.94</td>\n",
       "      <td>Partly cloudy throughout the day.</td>\n",
       "    </tr>\n",
       "    <tr>\n",
       "      <th>3</th>\n",
       "      <td>2006-04-01 03:00:00.000 +0200</td>\n",
       "      <td>Partly Cloudy</td>\n",
       "      <td>rain</td>\n",
       "      <td>8.288889</td>\n",
       "      <td>5.944444</td>\n",
       "      <td>0.83</td>\n",
       "      <td>14.1036</td>\n",
       "      <td>269.0</td>\n",
       "      <td>15.8263</td>\n",
       "      <td>0.0</td>\n",
       "      <td>1016.41</td>\n",
       "      <td>Partly cloudy throughout the day.</td>\n",
       "    </tr>\n",
       "    <tr>\n",
       "      <th>4</th>\n",
       "      <td>2006-04-01 04:00:00.000 +0200</td>\n",
       "      <td>Mostly Cloudy</td>\n",
       "      <td>rain</td>\n",
       "      <td>8.755556</td>\n",
       "      <td>6.977778</td>\n",
       "      <td>0.83</td>\n",
       "      <td>11.0446</td>\n",
       "      <td>259.0</td>\n",
       "      <td>15.8263</td>\n",
       "      <td>0.0</td>\n",
       "      <td>1016.51</td>\n",
       "      <td>Partly cloudy throughout the day.</td>\n",
       "    </tr>\n",
       "  </tbody>\n",
       "</table>\n",
       "</div>"
      ],
      "text/plain": [
       "                  Formatted Date        Summary Precip Type  Temperature (C)  \\\n",
       "0  2006-04-01 00:00:00.000 +0200  Partly Cloudy        rain         9.472222   \n",
       "1  2006-04-01 01:00:00.000 +0200  Partly Cloudy        rain         9.355556   \n",
       "2  2006-04-01 02:00:00.000 +0200  Mostly Cloudy        rain         9.377778   \n",
       "3  2006-04-01 03:00:00.000 +0200  Partly Cloudy        rain         8.288889   \n",
       "4  2006-04-01 04:00:00.000 +0200  Mostly Cloudy        rain         8.755556   \n",
       "\n",
       "   Apparent Temperature (C)  Humidity  Wind Speed (km/h)  \\\n",
       "0                  7.388889      0.89            14.1197   \n",
       "1                  7.227778      0.86            14.2646   \n",
       "2                  9.377778      0.89             3.9284   \n",
       "3                  5.944444      0.83            14.1036   \n",
       "4                  6.977778      0.83            11.0446   \n",
       "\n",
       "   Wind Bearing (degrees)  Visibility (km)  Loud Cover  Pressure (millibars)  \\\n",
       "0                   251.0          15.8263         0.0               1015.13   \n",
       "1                   259.0          15.8263         0.0               1015.63   \n",
       "2                   204.0          14.9569         0.0               1015.94   \n",
       "3                   269.0          15.8263         0.0               1016.41   \n",
       "4                   259.0          15.8263         0.0               1016.51   \n",
       "\n",
       "                       Daily Summary  \n",
       "0  Partly cloudy throughout the day.  \n",
       "1  Partly cloudy throughout the day.  \n",
       "2  Partly cloudy throughout the day.  \n",
       "3  Partly cloudy throughout the day.  \n",
       "4  Partly cloudy throughout the day.  "
      ]
     },
     "execution_count": 185,
     "metadata": {},
     "output_type": "execute_result"
    }
   ],
   "source": [
    "dfwn.head()"
   ]
  },
  {
   "cell_type": "code",
   "execution_count": 186,
   "metadata": {
    "scrolled": false
   },
   "outputs": [
    {
     "data": {
      "text/html": [
       "<div>\n",
       "<style scoped>\n",
       "    .dataframe tbody tr th:only-of-type {\n",
       "        vertical-align: middle;\n",
       "    }\n",
       "\n",
       "    .dataframe tbody tr th {\n",
       "        vertical-align: top;\n",
       "    }\n",
       "\n",
       "    .dataframe thead th {\n",
       "        text-align: right;\n",
       "    }\n",
       "</style>\n",
       "<table border=\"1\" class=\"dataframe\">\n",
       "  <thead>\n",
       "    <tr style=\"text-align: right;\">\n",
       "      <th></th>\n",
       "      <th>Formatted Date</th>\n",
       "      <th>Summary</th>\n",
       "      <th>Precip Type</th>\n",
       "      <th>Temperature (C)</th>\n",
       "      <th>Apparent Temperature (C)</th>\n",
       "      <th>Humidity</th>\n",
       "      <th>Wind Speed (km/h)</th>\n",
       "      <th>Wind Bearing (degrees)</th>\n",
       "      <th>Visibility (km)</th>\n",
       "      <th>Loud Cover</th>\n",
       "      <th>Pressure (millibars)</th>\n",
       "      <th>Daily Summary</th>\n",
       "    </tr>\n",
       "  </thead>\n",
       "  <tbody>\n",
       "    <tr>\n",
       "      <th>96448</th>\n",
       "      <td>2016-09-09 19:00:00.000 +0200</td>\n",
       "      <td>Partly Cloudy</td>\n",
       "      <td>rain</td>\n",
       "      <td>26.016667</td>\n",
       "      <td>26.016667</td>\n",
       "      <td>0.43</td>\n",
       "      <td>10.9963</td>\n",
       "      <td>31.0</td>\n",
       "      <td>16.1000</td>\n",
       "      <td>0.0</td>\n",
       "      <td>1014.36</td>\n",
       "      <td>Partly cloudy starting in the morning.</td>\n",
       "    </tr>\n",
       "    <tr>\n",
       "      <th>96449</th>\n",
       "      <td>2016-09-09 20:00:00.000 +0200</td>\n",
       "      <td>Partly Cloudy</td>\n",
       "      <td>rain</td>\n",
       "      <td>24.583333</td>\n",
       "      <td>24.583333</td>\n",
       "      <td>0.48</td>\n",
       "      <td>10.0947</td>\n",
       "      <td>20.0</td>\n",
       "      <td>15.5526</td>\n",
       "      <td>0.0</td>\n",
       "      <td>1015.16</td>\n",
       "      <td>Partly cloudy starting in the morning.</td>\n",
       "    </tr>\n",
       "    <tr>\n",
       "      <th>96450</th>\n",
       "      <td>2016-09-09 21:00:00.000 +0200</td>\n",
       "      <td>Partly Cloudy</td>\n",
       "      <td>rain</td>\n",
       "      <td>22.038889</td>\n",
       "      <td>22.038889</td>\n",
       "      <td>0.56</td>\n",
       "      <td>8.9838</td>\n",
       "      <td>30.0</td>\n",
       "      <td>16.1000</td>\n",
       "      <td>0.0</td>\n",
       "      <td>1015.66</td>\n",
       "      <td>Partly cloudy starting in the morning.</td>\n",
       "    </tr>\n",
       "    <tr>\n",
       "      <th>96451</th>\n",
       "      <td>2016-09-09 22:00:00.000 +0200</td>\n",
       "      <td>Partly Cloudy</td>\n",
       "      <td>rain</td>\n",
       "      <td>21.522222</td>\n",
       "      <td>21.522222</td>\n",
       "      <td>0.60</td>\n",
       "      <td>10.5294</td>\n",
       "      <td>20.0</td>\n",
       "      <td>16.1000</td>\n",
       "      <td>0.0</td>\n",
       "      <td>1015.95</td>\n",
       "      <td>Partly cloudy starting in the morning.</td>\n",
       "    </tr>\n",
       "    <tr>\n",
       "      <th>96452</th>\n",
       "      <td>2016-09-09 23:00:00.000 +0200</td>\n",
       "      <td>Partly Cloudy</td>\n",
       "      <td>rain</td>\n",
       "      <td>20.438889</td>\n",
       "      <td>20.438889</td>\n",
       "      <td>0.61</td>\n",
       "      <td>5.8765</td>\n",
       "      <td>39.0</td>\n",
       "      <td>15.5204</td>\n",
       "      <td>0.0</td>\n",
       "      <td>1016.16</td>\n",
       "      <td>Partly cloudy starting in the morning.</td>\n",
       "    </tr>\n",
       "  </tbody>\n",
       "</table>\n",
       "</div>"
      ],
      "text/plain": [
       "                      Formatted Date        Summary Precip Type  \\\n",
       "96448  2016-09-09 19:00:00.000 +0200  Partly Cloudy        rain   \n",
       "96449  2016-09-09 20:00:00.000 +0200  Partly Cloudy        rain   \n",
       "96450  2016-09-09 21:00:00.000 +0200  Partly Cloudy        rain   \n",
       "96451  2016-09-09 22:00:00.000 +0200  Partly Cloudy        rain   \n",
       "96452  2016-09-09 23:00:00.000 +0200  Partly Cloudy        rain   \n",
       "\n",
       "       Temperature (C)  Apparent Temperature (C)  Humidity  Wind Speed (km/h)  \\\n",
       "96448        26.016667                 26.016667      0.43            10.9963   \n",
       "96449        24.583333                 24.583333      0.48            10.0947   \n",
       "96450        22.038889                 22.038889      0.56             8.9838   \n",
       "96451        21.522222                 21.522222      0.60            10.5294   \n",
       "96452        20.438889                 20.438889      0.61             5.8765   \n",
       "\n",
       "       Wind Bearing (degrees)  Visibility (km)  Loud Cover  \\\n",
       "96448                    31.0          16.1000         0.0   \n",
       "96449                    20.0          15.5526         0.0   \n",
       "96450                    30.0          16.1000         0.0   \n",
       "96451                    20.0          16.1000         0.0   \n",
       "96452                    39.0          15.5204         0.0   \n",
       "\n",
       "       Pressure (millibars)                           Daily Summary  \n",
       "96448               1014.36  Partly cloudy starting in the morning.  \n",
       "96449               1015.16  Partly cloudy starting in the morning.  \n",
       "96450               1015.66  Partly cloudy starting in the morning.  \n",
       "96451               1015.95  Partly cloudy starting in the morning.  \n",
       "96452               1016.16  Partly cloudy starting in the morning.  "
      ]
     },
     "execution_count": 186,
     "metadata": {},
     "output_type": "execute_result"
    }
   ],
   "source": [
    "dfwn.tail()"
   ]
  },
  {
   "cell_type": "code",
   "execution_count": 187,
   "metadata": {
    "scrolled": true
   },
   "outputs": [
    {
     "name": "stdout",
     "output_type": "stream",
     "text": [
      "<class 'pandas.core.frame.DataFrame'>\n",
      "Int64Index: 95936 entries, 0 to 96452\n",
      "Data columns (total 12 columns):\n",
      " #   Column                    Non-Null Count  Dtype  \n",
      "---  ------                    --------------  -----  \n",
      " 0   Formatted Date            95936 non-null  object \n",
      " 1   Summary                   95936 non-null  object \n",
      " 2   Precip Type               95936 non-null  object \n",
      " 3   Temperature (C)           95936 non-null  float64\n",
      " 4   Apparent Temperature (C)  95936 non-null  float64\n",
      " 5   Humidity                  95936 non-null  float64\n",
      " 6   Wind Speed (km/h)         95936 non-null  float64\n",
      " 7   Wind Bearing (degrees)    95936 non-null  float64\n",
      " 8   Visibility (km)           95936 non-null  float64\n",
      " 9   Loud Cover                95936 non-null  float64\n",
      " 10  Pressure (millibars)      95936 non-null  float64\n",
      " 11  Daily Summary             95936 non-null  object \n",
      "dtypes: float64(8), object(4)\n",
      "memory usage: 9.5+ MB\n"
     ]
    }
   ],
   "source": [
    "dfwn.info()"
   ]
  },
  {
   "cell_type": "code",
   "execution_count": 188,
   "metadata": {
    "scrolled": true
   },
   "outputs": [
    {
     "data": {
      "text/html": [
       "<div>\n",
       "<style scoped>\n",
       "    .dataframe tbody tr th:only-of-type {\n",
       "        vertical-align: middle;\n",
       "    }\n",
       "\n",
       "    .dataframe tbody tr th {\n",
       "        vertical-align: top;\n",
       "    }\n",
       "\n",
       "    .dataframe thead th {\n",
       "        text-align: right;\n",
       "    }\n",
       "</style>\n",
       "<table border=\"1\" class=\"dataframe\">\n",
       "  <thead>\n",
       "    <tr style=\"text-align: right;\">\n",
       "      <th></th>\n",
       "      <th>Temperature (C)</th>\n",
       "      <th>Apparent Temperature (C)</th>\n",
       "      <th>Humidity</th>\n",
       "      <th>Wind Speed (km/h)</th>\n",
       "      <th>Wind Bearing (degrees)</th>\n",
       "      <th>Visibility (km)</th>\n",
       "      <th>Loud Cover</th>\n",
       "      <th>Pressure (millibars)</th>\n",
       "    </tr>\n",
       "  </thead>\n",
       "  <tbody>\n",
       "    <tr>\n",
       "      <th>count</th>\n",
       "      <td>95936.000000</td>\n",
       "      <td>95936.000000</td>\n",
       "      <td>95936.000000</td>\n",
       "      <td>95936.000000</td>\n",
       "      <td>95936.000000</td>\n",
       "      <td>95936.000000</td>\n",
       "      <td>95936.0</td>\n",
       "      <td>95936.000000</td>\n",
       "    </tr>\n",
       "    <tr>\n",
       "      <th>mean</th>\n",
       "      <td>11.940976</td>\n",
       "      <td>10.862531</td>\n",
       "      <td>0.734841</td>\n",
       "      <td>10.804936</td>\n",
       "      <td>187.518773</td>\n",
       "      <td>10.362402</td>\n",
       "      <td>0.0</td>\n",
       "      <td>1003.150038</td>\n",
       "    </tr>\n",
       "    <tr>\n",
       "      <th>std</th>\n",
       "      <td>9.570671</td>\n",
       "      <td>10.717812</td>\n",
       "      <td>0.195724</td>\n",
       "      <td>6.920727</td>\n",
       "      <td>107.385351</td>\n",
       "      <td>4.173780</td>\n",
       "      <td>0.0</td>\n",
       "      <td>117.276976</td>\n",
       "    </tr>\n",
       "    <tr>\n",
       "      <th>min</th>\n",
       "      <td>-21.822222</td>\n",
       "      <td>-27.716667</td>\n",
       "      <td>0.000000</td>\n",
       "      <td>0.000000</td>\n",
       "      <td>0.000000</td>\n",
       "      <td>0.000000</td>\n",
       "      <td>0.0</td>\n",
       "      <td>0.000000</td>\n",
       "    </tr>\n",
       "    <tr>\n",
       "      <th>25%</th>\n",
       "      <td>4.604167</td>\n",
       "      <td>2.276389</td>\n",
       "      <td>0.600000</td>\n",
       "      <td>5.796000</td>\n",
       "      <td>116.000000</td>\n",
       "      <td>8.372000</td>\n",
       "      <td>0.0</td>\n",
       "      <td>1011.890000</td>\n",
       "    </tr>\n",
       "    <tr>\n",
       "      <th>50%</th>\n",
       "      <td>12.033333</td>\n",
       "      <td>12.033333</td>\n",
       "      <td>0.780000</td>\n",
       "      <td>9.933700</td>\n",
       "      <td>180.000000</td>\n",
       "      <td>10.046400</td>\n",
       "      <td>0.0</td>\n",
       "      <td>1016.420000</td>\n",
       "    </tr>\n",
       "    <tr>\n",
       "      <th>75%</th>\n",
       "      <td>18.844444</td>\n",
       "      <td>18.844444</td>\n",
       "      <td>0.890000</td>\n",
       "      <td>14.135800</td>\n",
       "      <td>290.000000</td>\n",
       "      <td>14.812000</td>\n",
       "      <td>0.0</td>\n",
       "      <td>1021.050000</td>\n",
       "    </tr>\n",
       "    <tr>\n",
       "      <th>max</th>\n",
       "      <td>39.905556</td>\n",
       "      <td>39.344444</td>\n",
       "      <td>1.000000</td>\n",
       "      <td>63.852600</td>\n",
       "      <td>359.000000</td>\n",
       "      <td>16.100000</td>\n",
       "      <td>0.0</td>\n",
       "      <td>1046.380000</td>\n",
       "    </tr>\n",
       "  </tbody>\n",
       "</table>\n",
       "</div>"
      ],
      "text/plain": [
       "       Temperature (C)  Apparent Temperature (C)      Humidity  \\\n",
       "count     95936.000000              95936.000000  95936.000000   \n",
       "mean         11.940976                 10.862531      0.734841   \n",
       "std           9.570671                 10.717812      0.195724   \n",
       "min         -21.822222                -27.716667      0.000000   \n",
       "25%           4.604167                  2.276389      0.600000   \n",
       "50%          12.033333                 12.033333      0.780000   \n",
       "75%          18.844444                 18.844444      0.890000   \n",
       "max          39.905556                 39.344444      1.000000   \n",
       "\n",
       "       Wind Speed (km/h)  Wind Bearing (degrees)  Visibility (km)  Loud Cover  \\\n",
       "count       95936.000000            95936.000000     95936.000000     95936.0   \n",
       "mean           10.804936              187.518773        10.362402         0.0   \n",
       "std             6.920727              107.385351         4.173780         0.0   \n",
       "min             0.000000                0.000000         0.000000         0.0   \n",
       "25%             5.796000              116.000000         8.372000         0.0   \n",
       "50%             9.933700              180.000000        10.046400         0.0   \n",
       "75%            14.135800              290.000000        14.812000         0.0   \n",
       "max            63.852600              359.000000        16.100000         0.0   \n",
       "\n",
       "       Pressure (millibars)  \n",
       "count          95936.000000  \n",
       "mean            1003.150038  \n",
       "std              117.276976  \n",
       "min                0.000000  \n",
       "25%             1011.890000  \n",
       "50%             1016.420000  \n",
       "75%             1021.050000  \n",
       "max             1046.380000  "
      ]
     },
     "execution_count": 188,
     "metadata": {},
     "output_type": "execute_result"
    }
   ],
   "source": [
    "dfwn.describe()"
   ]
  },
  {
   "cell_type": "code",
   "execution_count": 189,
   "metadata": {},
   "outputs": [
    {
     "data": {
      "text/plain": [
       "<AxesSubplot:title={'center':'Pressure (millibars)'}, xlabel='Precip Type'>"
      ]
     },
     "execution_count": 189,
     "metadata": {},
     "output_type": "execute_result"
    },
    {
     "data": {
      "image/png": "[encoded data removed]",
      "text/plain": [
       "<Figure size 432x288 with 1 Axes>"
      ]
     },
     "metadata": {
      "needs_background": "light"
     },
     "output_type": "display_data"
    }
   ],
   "source": [
    "dfwn.boxplot(by ='Precip Type', column =['Pressure (millibars)'], grid = False)"
   ]
  },
  {
   "cell_type": "markdown",
   "metadata": {},
   "source": [
    "Terdapat kenehan data dari boxplot diatas. Ada data dengan nilai pressure = 0 millibar. \n",
    "hal ini tidak benar, karena nila tekanan di bumi sellau bernilai diatas 800 millibar. sehingga nilai 0 tersebut kembali di drop. dalam hal ini didefinisikan kembali data baru yaitu dfwn1\n",
    "\n",
    "\n"
   ]
  },
  {
   "cell_type": "code",
   "execution_count": 190,
   "metadata": {},
   "outputs": [],
   "source": [
    "dfwn1 = dfwn[dfwn['Pressure (millibars)']>=1]"
   ]
  },
  {
   "cell_type": "code",
   "execution_count": 191,
   "metadata": {},
   "outputs": [
    {
     "data": {
      "text/html": [
       "<div>\n",
       "<style scoped>\n",
       "    .dataframe tbody tr th:only-of-type {\n",
       "        vertical-align: middle;\n",
       "    }\n",
       "\n",
       "    .dataframe tbody tr th {\n",
       "        vertical-align: top;\n",
       "    }\n",
       "\n",
       "    .dataframe thead th {\n",
       "        text-align: right;\n",
       "    }\n",
       "</style>\n",
       "<table border=\"1\" class=\"dataframe\">\n",
       "  <thead>\n",
       "    <tr style=\"text-align: right;\">\n",
       "      <th></th>\n",
       "      <th>Temperature (C)</th>\n",
       "      <th>Apparent Temperature (C)</th>\n",
       "      <th>Humidity</th>\n",
       "      <th>Wind Speed (km/h)</th>\n",
       "      <th>Wind Bearing (degrees)</th>\n",
       "      <th>Visibility (km)</th>\n",
       "      <th>Loud Cover</th>\n",
       "      <th>Pressure (millibars)</th>\n",
       "    </tr>\n",
       "  </thead>\n",
       "  <tbody>\n",
       "    <tr>\n",
       "      <th>count</th>\n",
       "      <td>94648.000000</td>\n",
       "      <td>94648.000000</td>\n",
       "      <td>94648.000000</td>\n",
       "      <td>94648.000000</td>\n",
       "      <td>94648.000000</td>\n",
       "      <td>94648.000000</td>\n",
       "      <td>94648.0</td>\n",
       "      <td>94648.000000</td>\n",
       "    </tr>\n",
       "    <tr>\n",
       "      <th>mean</th>\n",
       "      <td>11.957784</td>\n",
       "      <td>10.886063</td>\n",
       "      <td>0.734906</td>\n",
       "      <td>10.778381</td>\n",
       "      <td>187.437241</td>\n",
       "      <td>10.397360</td>\n",
       "      <td>0.0</td>\n",
       "      <td>1016.801221</td>\n",
       "    </tr>\n",
       "    <tr>\n",
       "      <th>std</th>\n",
       "      <td>9.565622</td>\n",
       "      <td>10.707436</td>\n",
       "      <td>0.195845</td>\n",
       "      <td>6.899242</td>\n",
       "      <td>107.407977</td>\n",
       "      <td>4.167584</td>\n",
       "      <td>0.0</td>\n",
       "      <td>7.769901</td>\n",
       "    </tr>\n",
       "    <tr>\n",
       "      <th>min</th>\n",
       "      <td>-21.822222</td>\n",
       "      <td>-27.716667</td>\n",
       "      <td>0.000000</td>\n",
       "      <td>0.000000</td>\n",
       "      <td>0.000000</td>\n",
       "      <td>0.000000</td>\n",
       "      <td>0.0</td>\n",
       "      <td>973.780000</td>\n",
       "    </tr>\n",
       "    <tr>\n",
       "      <th>25%</th>\n",
       "      <td>4.655556</td>\n",
       "      <td>2.305556</td>\n",
       "      <td>0.600000</td>\n",
       "      <td>5.779900</td>\n",
       "      <td>116.000000</td>\n",
       "      <td>8.420300</td>\n",
       "      <td>0.0</td>\n",
       "      <td>1012.110000</td>\n",
       "    </tr>\n",
       "    <tr>\n",
       "      <th>50%</th>\n",
       "      <td>12.061111</td>\n",
       "      <td>12.061111</td>\n",
       "      <td>0.780000</td>\n",
       "      <td>9.901500</td>\n",
       "      <td>180.000000</td>\n",
       "      <td>10.046400</td>\n",
       "      <td>0.0</td>\n",
       "      <td>1016.530000</td>\n",
       "    </tr>\n",
       "    <tr>\n",
       "      <th>75%</th>\n",
       "      <td>18.855556</td>\n",
       "      <td>18.855556</td>\n",
       "      <td>0.890000</td>\n",
       "      <td>14.103600</td>\n",
       "      <td>290.000000</td>\n",
       "      <td>14.908600</td>\n",
       "      <td>0.0</td>\n",
       "      <td>1021.130000</td>\n",
       "    </tr>\n",
       "    <tr>\n",
       "      <th>max</th>\n",
       "      <td>39.905556</td>\n",
       "      <td>39.344444</td>\n",
       "      <td>1.000000</td>\n",
       "      <td>63.852600</td>\n",
       "      <td>359.000000</td>\n",
       "      <td>16.100000</td>\n",
       "      <td>0.0</td>\n",
       "      <td>1046.380000</td>\n",
       "    </tr>\n",
       "  </tbody>\n",
       "</table>\n",
       "</div>"
      ],
      "text/plain": [
       "       Temperature (C)  Apparent Temperature (C)      Humidity  \\\n",
       "count     94648.000000              94648.000000  94648.000000   \n",
       "mean         11.957784                 10.886063      0.734906   \n",
       "std           9.565622                 10.707436      0.195845   \n",
       "min         -21.822222                -27.716667      0.000000   \n",
       "25%           4.655556                  2.305556      0.600000   \n",
       "50%          12.061111                 12.061111      0.780000   \n",
       "75%          18.855556                 18.855556      0.890000   \n",
       "max          39.905556                 39.344444      1.000000   \n",
       "\n",
       "       Wind Speed (km/h)  Wind Bearing (degrees)  Visibility (km)  Loud Cover  \\\n",
       "count       94648.000000            94648.000000     94648.000000     94648.0   \n",
       "mean           10.778381              187.437241        10.397360         0.0   \n",
       "std             6.899242              107.407977         4.167584         0.0   \n",
       "min             0.000000                0.000000         0.000000         0.0   \n",
       "25%             5.779900              116.000000         8.420300         0.0   \n",
       "50%             9.901500              180.000000        10.046400         0.0   \n",
       "75%            14.103600              290.000000        14.908600         0.0   \n",
       "max            63.852600              359.000000        16.100000         0.0   \n",
       "\n",
       "       Pressure (millibars)  \n",
       "count          94648.000000  \n",
       "mean            1016.801221  \n",
       "std                7.769901  \n",
       "min              973.780000  \n",
       "25%             1012.110000  \n",
       "50%             1016.530000  \n",
       "75%             1021.130000  \n",
       "max             1046.380000  "
      ]
     },
     "execution_count": 191,
     "metadata": {},
     "output_type": "execute_result"
    }
   ],
   "source": [
    "dfwn1.describe()"
   ]
  },
  {
   "cell_type": "code",
   "execution_count": 192,
   "metadata": {},
   "outputs": [
    {
     "name": "stdout",
     "output_type": "stream",
     "text": [
      "Column name\n",
      "Formatted Date 94624\n",
      "Summary 27\n",
      "Precip Type 2\n",
      "Daily Summary 214\n"
     ]
    }
   ],
   "source": [
    "#First, let's check which columns should be categorical\n",
    "print('Column name')\n",
    "for col in dfwn1.columns:\n",
    "    if dfwn1[col].dtype=='object':\n",
    "        print(col, dfwn1[col].nunique())"
   ]
  },
  {
   "cell_type": "code",
   "execution_count": 193,
   "metadata": {},
   "outputs": [],
   "source": [
    "#dfwn1['Temperature (C)']"
   ]
  },
  {
   "cell_type": "code",
   "execution_count": 194,
   "metadata": {},
   "outputs": [
    {
     "data": {
      "text/plain": [
       "(94648, 12)"
      ]
     },
     "execution_count": 194,
     "metadata": {},
     "output_type": "execute_result"
    }
   ],
   "source": [
    "dfwn1.shape"
   ]
  },
  {
   "cell_type": "code",
   "execution_count": 195,
   "metadata": {},
   "outputs": [
    {
     "name": "stderr",
     "output_type": "stream",
     "text": [
      "<ipython-input-195-652870ae8b9c>:6: SettingWithCopyWarning: \n",
      "A value is trying to be set on a copy of a slice from a DataFrame.\n",
      "Try using .loc[row_indexer,col_indexer] = value instead\n",
      "\n",
      "See the caveats in the documentation: https://pandas.pydata.org/pandas-docs/stable/user_guide/indexing.html#returning-a-view-versus-a-copy\n",
      "  dfwn1[col] = pd.to_numeric(dfwn1[col], errors='coerce')\n",
      "<ipython-input-195-652870ae8b9c>:10: SettingWithCopyWarning: \n",
      "A value is trying to be set on a copy of a slice from a DataFrame.\n",
      "Try using .loc[row_indexer,col_indexer] = value instead\n",
      "\n",
      "See the caveats in the documentation: https://pandas.pydata.org/pandas-docs/stable/user_guide/indexing.html#returning-a-view-versus-a-copy\n",
      "  dfwn1[col] = dfwn1[col].astype('category')\n",
      "<ipython-input-195-652870ae8b9c>:12: SettingWithCopyWarning: \n",
      "A value is trying to be set on a copy of a slice from a DataFrame.\n",
      "Try using .loc[row_indexer,col_indexer] = value instead\n",
      "\n",
      "See the caveats in the documentation: https://pandas.pydata.org/pandas-docs/stable/user_guide/indexing.html#returning-a-view-versus-a-copy\n",
      "  dfwn1['Formatted Date'] = pd.to_datetime(dfwn1['Formatted Date'], errors='coerce')\n"
     ]
    }
   ],
   "source": [
    "numer = ['Temperature (C)',\n",
    "       'Apparent Temperature (C)', 'Humidity', 'Wind Speed (km/h)',\n",
    "       'Wind Bearing (degrees)', 'Visibility (km)', 'Loud Cover',\n",
    "       'Pressure (millibars)']\n",
    "for col in numer: # coerce for missing values\n",
    "    dfwn1[col] = pd.to_numeric(dfwn1[col], errors='coerce')\n",
    "\n",
    "categ = ['Summary', 'Daily Summary', 'Precip Type']\n",
    "for col in categ:\n",
    "    dfwn1[col] = dfwn1[col].astype('category')\n",
    "\n",
    "dfwn1['Formatted Date'] = pd.to_datetime(dfwn1['Formatted Date'], errors='coerce')"
   ]
  },
  {
   "cell_type": "code",
   "execution_count": 196,
   "metadata": {
    "scrolled": true
   },
   "outputs": [
    {
     "name": "stdout",
     "output_type": "stream",
     "text": [
      "Partly Cloudy                          31513\n",
      "Mostly Cloudy                          27780\n",
      "Overcast                               16361\n",
      "Clear                                  10035\n",
      "Foggy                                   7019\n",
      "Breezy and Overcast                      525\n",
      "Breezy and Mostly Cloudy                 511\n",
      "Breezy and Partly Cloudy                 379\n",
      "Dry and Partly Cloudy                     86\n",
      "Windy and Partly Cloudy                   63\n",
      "Light Rain                                63\n",
      "Windy and Overcast                        45\n",
      "Humid and Mostly Cloudy                   40\n",
      "Drizzle                                   39\n",
      "Breezy and Foggy                          35\n",
      "Dry                                       34\n",
      "Windy and Mostly Cloudy                   34\n",
      "Breezy                                    30\n",
      "Humid and Partly Cloudy                   17\n",
      "Dry and Mostly Cloudy                     14\n",
      "Rain                                      10\n",
      "Humid and Overcast                         7\n",
      "Windy and Foggy                            4\n",
      "Dangerously Windy and Partly Cloudy        1\n",
      "Windy                                      1\n",
      "Windy and Dry                              1\n",
      "Breezy and Dry                             1\n",
      "Name: Summary, dtype: int64 \n",
      "\n",
      "Mostly cloudy throughout the day.                         19951\n",
      "Partly cloudy throughout the day.                          9924\n",
      "Partly cloudy until night.                                 6134\n",
      "Partly cloudy starting in the morning.                     5156\n",
      "Foggy in the morning.                                      4149\n",
      "                                                          ...  \n",
      "Mostly cloudy overnight.                                      9\n",
      "Breezy starting in the morning continuing until night.        8\n",
      "Breezy starting overnight continuing until morning.           8\n",
      "Windy in the afternoon.                                       8\n",
      "Light rain overnight.                                         3\n",
      "Name: Daily Summary, Length: 214, dtype: int64 \n",
      "\n",
      "rain    84116\n",
      "snow    10532\n",
      "Name: Precip Type, dtype: int64 \n",
      "\n"
     ]
    }
   ],
   "source": [
    "for x in categ:\n",
    "    print(dfwn1[x].value_counts(),'\\n')"
   ]
  },
  {
   "cell_type": "code",
   "execution_count": 197,
   "metadata": {
    "scrolled": true
   },
   "outputs": [
    {
     "data": {
      "text/html": [
       "<div>\n",
       "<style scoped>\n",
       "    .dataframe tbody tr th:only-of-type {\n",
       "        vertical-align: middle;\n",
       "    }\n",
       "\n",
       "    .dataframe tbody tr th {\n",
       "        vertical-align: top;\n",
       "    }\n",
       "\n",
       "    .dataframe thead th {\n",
       "        text-align: right;\n",
       "    }\n",
       "</style>\n",
       "<table border=\"1\" class=\"dataframe\">\n",
       "  <thead>\n",
       "    <tr style=\"text-align: right;\">\n",
       "      <th></th>\n",
       "      <th>Temperature (C)</th>\n",
       "      <th>Apparent Temperature (C)</th>\n",
       "      <th>Humidity</th>\n",
       "      <th>Wind Speed (km/h)</th>\n",
       "      <th>Wind Bearing (degrees)</th>\n",
       "      <th>Visibility (km)</th>\n",
       "      <th>Loud Cover</th>\n",
       "      <th>Pressure (millibars)</th>\n",
       "    </tr>\n",
       "  </thead>\n",
       "  <tbody>\n",
       "    <tr>\n",
       "      <th>count</th>\n",
       "      <td>94648.000000</td>\n",
       "      <td>94648.000000</td>\n",
       "      <td>94648.000000</td>\n",
       "      <td>94648.000000</td>\n",
       "      <td>94648.000000</td>\n",
       "      <td>94648.000000</td>\n",
       "      <td>94648.0</td>\n",
       "      <td>94648.000000</td>\n",
       "    </tr>\n",
       "    <tr>\n",
       "      <th>mean</th>\n",
       "      <td>11.957784</td>\n",
       "      <td>10.886063</td>\n",
       "      <td>0.734906</td>\n",
       "      <td>10.778381</td>\n",
       "      <td>187.437241</td>\n",
       "      <td>10.397360</td>\n",
       "      <td>0.0</td>\n",
       "      <td>1016.801221</td>\n",
       "    </tr>\n",
       "    <tr>\n",
       "      <th>std</th>\n",
       "      <td>9.565622</td>\n",
       "      <td>10.707436</td>\n",
       "      <td>0.195845</td>\n",
       "      <td>6.899242</td>\n",
       "      <td>107.407977</td>\n",
       "      <td>4.167584</td>\n",
       "      <td>0.0</td>\n",
       "      <td>7.769901</td>\n",
       "    </tr>\n",
       "    <tr>\n",
       "      <th>min</th>\n",
       "      <td>-21.822222</td>\n",
       "      <td>-27.716667</td>\n",
       "      <td>0.000000</td>\n",
       "      <td>0.000000</td>\n",
       "      <td>0.000000</td>\n",
       "      <td>0.000000</td>\n",
       "      <td>0.0</td>\n",
       "      <td>973.780000</td>\n",
       "    </tr>\n",
       "    <tr>\n",
       "      <th>25%</th>\n",
       "      <td>4.655556</td>\n",
       "      <td>2.305556</td>\n",
       "      <td>0.600000</td>\n",
       "      <td>5.779900</td>\n",
       "      <td>116.000000</td>\n",
       "      <td>8.420300</td>\n",
       "      <td>0.0</td>\n",
       "      <td>1012.110000</td>\n",
       "    </tr>\n",
       "    <tr>\n",
       "      <th>50%</th>\n",
       "      <td>12.061111</td>\n",
       "      <td>12.061111</td>\n",
       "      <td>0.780000</td>\n",
       "      <td>9.901500</td>\n",
       "      <td>180.000000</td>\n",
       "      <td>10.046400</td>\n",
       "      <td>0.0</td>\n",
       "      <td>1016.530000</td>\n",
       "    </tr>\n",
       "    <tr>\n",
       "      <th>75%</th>\n",
       "      <td>18.855556</td>\n",
       "      <td>18.855556</td>\n",
       "      <td>0.890000</td>\n",
       "      <td>14.103600</td>\n",
       "      <td>290.000000</td>\n",
       "      <td>14.908600</td>\n",
       "      <td>0.0</td>\n",
       "      <td>1021.130000</td>\n",
       "    </tr>\n",
       "    <tr>\n",
       "      <th>max</th>\n",
       "      <td>39.905556</td>\n",
       "      <td>39.344444</td>\n",
       "      <td>1.000000</td>\n",
       "      <td>63.852600</td>\n",
       "      <td>359.000000</td>\n",
       "      <td>16.100000</td>\n",
       "      <td>0.0</td>\n",
       "      <td>1046.380000</td>\n",
       "    </tr>\n",
       "  </tbody>\n",
       "</table>\n",
       "</div>"
      ],
      "text/plain": [
       "       Temperature (C)  Apparent Temperature (C)      Humidity  \\\n",
       "count     94648.000000              94648.000000  94648.000000   \n",
       "mean         11.957784                 10.886063      0.734906   \n",
       "std           9.565622                 10.707436      0.195845   \n",
       "min         -21.822222                -27.716667      0.000000   \n",
       "25%           4.655556                  2.305556      0.600000   \n",
       "50%          12.061111                 12.061111      0.780000   \n",
       "75%          18.855556                 18.855556      0.890000   \n",
       "max          39.905556                 39.344444      1.000000   \n",
       "\n",
       "       Wind Speed (km/h)  Wind Bearing (degrees)  Visibility (km)  Loud Cover  \\\n",
       "count       94648.000000            94648.000000     94648.000000     94648.0   \n",
       "mean           10.778381              187.437241        10.397360         0.0   \n",
       "std             6.899242              107.407977         4.167584         0.0   \n",
       "min             0.000000                0.000000         0.000000         0.0   \n",
       "25%             5.779900              116.000000         8.420300         0.0   \n",
       "50%             9.901500              180.000000        10.046400         0.0   \n",
       "75%            14.103600              290.000000        14.908600         0.0   \n",
       "max            63.852600              359.000000        16.100000         0.0   \n",
       "\n",
       "       Pressure (millibars)  \n",
       "count          94648.000000  \n",
       "mean            1016.801221  \n",
       "std                7.769901  \n",
       "min              973.780000  \n",
       "25%             1012.110000  \n",
       "50%             1016.530000  \n",
       "75%             1021.130000  \n",
       "max             1046.380000  "
      ]
     },
     "execution_count": 197,
     "metadata": {},
     "output_type": "execute_result"
    }
   ],
   "source": [
    "dfwn1[['Formatted Date', 'Summary', 'Precip Type', 'Temperature (C)',\n",
    "       'Apparent Temperature (C)', 'Humidity', 'Wind Speed (km/h)',\n",
    "       'Wind Bearing (degrees)', 'Visibility (km)', 'Loud Cover',\n",
    "       'Pressure (millibars)', 'Daily Summary']].describe()"
   ]
  },
  {
   "cell_type": "markdown",
   "metadata": {},
   "source": [
    "selanjutnya akan dibuat model untuk memprediksi tipe hujan jika diketahui nilai 3 parameter cuaca yaitu temperatur, humidity dan pressure"
   ]
  },
  {
   "cell_type": "code",
   "execution_count": 198,
   "metadata": {},
   "outputs": [
    {
     "data": {
      "text/html": [
       "<div>\n",
       "<style scoped>\n",
       "    .dataframe tbody tr th:only-of-type {\n",
       "        vertical-align: middle;\n",
       "    }\n",
       "\n",
       "    .dataframe tbody tr th {\n",
       "        vertical-align: top;\n",
       "    }\n",
       "\n",
       "    .dataframe thead th {\n",
       "        text-align: right;\n",
       "    }\n",
       "</style>\n",
       "<table border=\"1\" class=\"dataframe\">\n",
       "  <thead>\n",
       "    <tr style=\"text-align: right;\">\n",
       "      <th></th>\n",
       "      <th>Formatted Date</th>\n",
       "      <th>Summary</th>\n",
       "      <th>Precip Type</th>\n",
       "      <th>Temperature (C)</th>\n",
       "      <th>Apparent Temperature (C)</th>\n",
       "      <th>Humidity</th>\n",
       "      <th>Wind Speed (km/h)</th>\n",
       "      <th>Wind Bearing (degrees)</th>\n",
       "      <th>Visibility (km)</th>\n",
       "      <th>Loud Cover</th>\n",
       "      <th>Pressure (millibars)</th>\n",
       "      <th>Daily Summary</th>\n",
       "    </tr>\n",
       "  </thead>\n",
       "  <tbody>\n",
       "    <tr>\n",
       "      <th>0</th>\n",
       "      <td>2006-04-01 00:00:00+02:00</td>\n",
       "      <td>Partly Cloudy</td>\n",
       "      <td>rain</td>\n",
       "      <td>9.472222</td>\n",
       "      <td>7.388889</td>\n",
       "      <td>0.89</td>\n",
       "      <td>14.1197</td>\n",
       "      <td>251.0</td>\n",
       "      <td>15.8263</td>\n",
       "      <td>0.0</td>\n",
       "      <td>1015.13</td>\n",
       "      <td>Partly cloudy throughout the day.</td>\n",
       "    </tr>\n",
       "    <tr>\n",
       "      <th>1</th>\n",
       "      <td>2006-04-01 01:00:00+02:00</td>\n",
       "      <td>Partly Cloudy</td>\n",
       "      <td>rain</td>\n",
       "      <td>9.355556</td>\n",
       "      <td>7.227778</td>\n",
       "      <td>0.86</td>\n",
       "      <td>14.2646</td>\n",
       "      <td>259.0</td>\n",
       "      <td>15.8263</td>\n",
       "      <td>0.0</td>\n",
       "      <td>1015.63</td>\n",
       "      <td>Partly cloudy throughout the day.</td>\n",
       "    </tr>\n",
       "    <tr>\n",
       "      <th>2</th>\n",
       "      <td>2006-04-01 02:00:00+02:00</td>\n",
       "      <td>Mostly Cloudy</td>\n",
       "      <td>rain</td>\n",
       "      <td>9.377778</td>\n",
       "      <td>9.377778</td>\n",
       "      <td>0.89</td>\n",
       "      <td>3.9284</td>\n",
       "      <td>204.0</td>\n",
       "      <td>14.9569</td>\n",
       "      <td>0.0</td>\n",
       "      <td>1015.94</td>\n",
       "      <td>Partly cloudy throughout the day.</td>\n",
       "    </tr>\n",
       "    <tr>\n",
       "      <th>3</th>\n",
       "      <td>2006-04-01 03:00:00+02:00</td>\n",
       "      <td>Partly Cloudy</td>\n",
       "      <td>rain</td>\n",
       "      <td>8.288889</td>\n",
       "      <td>5.944444</td>\n",
       "      <td>0.83</td>\n",
       "      <td>14.1036</td>\n",
       "      <td>269.0</td>\n",
       "      <td>15.8263</td>\n",
       "      <td>0.0</td>\n",
       "      <td>1016.41</td>\n",
       "      <td>Partly cloudy throughout the day.</td>\n",
       "    </tr>\n",
       "    <tr>\n",
       "      <th>4</th>\n",
       "      <td>2006-04-01 04:00:00+02:00</td>\n",
       "      <td>Mostly Cloudy</td>\n",
       "      <td>rain</td>\n",
       "      <td>8.755556</td>\n",
       "      <td>6.977778</td>\n",
       "      <td>0.83</td>\n",
       "      <td>11.0446</td>\n",
       "      <td>259.0</td>\n",
       "      <td>15.8263</td>\n",
       "      <td>0.0</td>\n",
       "      <td>1016.51</td>\n",
       "      <td>Partly cloudy throughout the day.</td>\n",
       "    </tr>\n",
       "  </tbody>\n",
       "</table>\n",
       "</div>"
      ],
      "text/plain": [
       "              Formatted Date        Summary Precip Type  Temperature (C)  \\\n",
       "0  2006-04-01 00:00:00+02:00  Partly Cloudy        rain         9.472222   \n",
       "1  2006-04-01 01:00:00+02:00  Partly Cloudy        rain         9.355556   \n",
       "2  2006-04-01 02:00:00+02:00  Mostly Cloudy        rain         9.377778   \n",
       "3  2006-04-01 03:00:00+02:00  Partly Cloudy        rain         8.288889   \n",
       "4  2006-04-01 04:00:00+02:00  Mostly Cloudy        rain         8.755556   \n",
       "\n",
       "   Apparent Temperature (C)  Humidity  Wind Speed (km/h)  \\\n",
       "0                  7.388889      0.89            14.1197   \n",
       "1                  7.227778      0.86            14.2646   \n",
       "2                  9.377778      0.89             3.9284   \n",
       "3                  5.944444      0.83            14.1036   \n",
       "4                  6.977778      0.83            11.0446   \n",
       "\n",
       "   Wind Bearing (degrees)  Visibility (km)  Loud Cover  Pressure (millibars)  \\\n",
       "0                   251.0          15.8263         0.0               1015.13   \n",
       "1                   259.0          15.8263         0.0               1015.63   \n",
       "2                   204.0          14.9569         0.0               1015.94   \n",
       "3                   269.0          15.8263         0.0               1016.41   \n",
       "4                   259.0          15.8263         0.0               1016.51   \n",
       "\n",
       "                       Daily Summary  \n",
       "0  Partly cloudy throughout the day.  \n",
       "1  Partly cloudy throughout the day.  \n",
       "2  Partly cloudy throughout the day.  \n",
       "3  Partly cloudy throughout the day.  \n",
       "4  Partly cloudy throughout the day.  "
      ]
     },
     "execution_count": 198,
     "metadata": {},
     "output_type": "execute_result"
    }
   ],
   "source": [
    "dfwn1.head()"
   ]
  },
  {
   "cell_type": "code",
   "execution_count": 199,
   "metadata": {
    "scrolled": true
   },
   "outputs": [
    {
     "data": {
      "text/plain": [
       "array(['Formatted Date', 'Summary', 'Precip Type', 'Temperature (C)',\n",
       "       'Apparent Temperature (C)', 'Humidity', 'Wind Speed (km/h)',\n",
       "       'Wind Bearing (degrees)', 'Visibility (km)', 'Loud Cover',\n",
       "       'Pressure (millibars)', 'Daily Summary'], dtype=object)"
      ]
     },
     "execution_count": 199,
     "metadata": {},
     "output_type": "execute_result"
    }
   ],
   "source": [
    "dfwn1.columns.values"
   ]
  },
  {
   "cell_type": "code",
   "execution_count": 200,
   "metadata": {
    "scrolled": true
   },
   "outputs": [
    {
     "name": "stdout",
     "output_type": "stream",
     "text": [
      "Empty DataFrame\n",
      "Columns: []\n",
      "Index: [percent missing, how many missing]\n"
     ]
    }
   ],
   "source": [
    "missing = dfwn1.isnull().sum()/len(dfwn1)*100\n",
    "\n",
    "print(pd.DataFrame([missing[missing>0],pd.Series(dfwn1.isnull().sum()[dfwn1.isnull().sum()>1000])], index=['percent missing','how many missing']))"
   ]
  },
  {
   "cell_type": "markdown",
   "metadata": {},
   "source": [
    "data sudah tidak memiliki missing value"
   ]
  },
  {
   "cell_type": "code",
   "execution_count": null,
   "metadata": {},
   "outputs": [],
   "source": [
    "abc1 = dfwn1[['Wind Speed (km/h)',\n",
    "       'Humidity', 'Pressure (millibars)']]\n",
    "sns.pairplot(abc1)"
   ]
  },
  {
   "cell_type": "code",
   "execution_count": null,
   "metadata": {
    "scrolled": true
   },
   "outputs": [],
   "source": [
    "dfwn1.boxplot(by ='Precip Type', column =['Wind Speed (km/h)'], grid = False)"
   ]
  },
  {
   "cell_type": "code",
   "execution_count": null,
   "metadata": {},
   "outputs": [],
   "source": [
    "dfwn1.boxplot(by ='Precip Type', column =['Humidity'], grid = False)"
   ]
  },
  {
   "cell_type": "code",
   "execution_count": null,
   "metadata": {
    "scrolled": true
   },
   "outputs": [],
   "source": [
    "dfwn1.boxplot(by ='Precip Type', column =['Pressure (millibars)'], grid = False)"
   ]
  },
  {
   "cell_type": "markdown",
   "metadata": {},
   "source": [
    "seperti yang telah disebutkan pada pendahuluan, bahwa temperatur tidak diikutkan dalam perhitungan model, disebabkan oleh kaitan yang erat dengan tipe presipitasi. seperti terlihat pada tabel berikut"
   ]
  },
  {
   "cell_type": "code",
   "execution_count": null,
   "metadata": {
    "scrolled": false
   },
   "outputs": [],
   "source": [
    "#dfwn[dfwn['Pressure (millibars)']>=1].describe()\n",
    "dfwn1[dfwn1['Precip Type']=='rain'].describe()"
   ]
  },
  {
   "cell_type": "code",
   "execution_count": null,
   "metadata": {
    "scrolled": true
   },
   "outputs": [],
   "source": [
    "#dfwn1[dfwn1['Humidity']<=.1].count()\n",
    "dfwn1[dfwn1['Precip Type']=='snow'].describe()"
   ]
  },
  {
   "cell_type": "code",
   "execution_count": null,
   "metadata": {},
   "outputs": [],
   "source": [
    "#pertama dengna mengubah label pada precip type\n",
    "from sklearn.preprocessing import LabelEncoder\n",
    "target_label = dfwn1['Precip Type'].values\n",
    "print('data tipe hujan before: ',target_label)\n",
    "label_encoder = LabelEncoder().fit(target_label)\n",
    "target_label_after = label_encoder.transform(target_label)\n",
    "print('data tipe hujan after: ',target_label_after)\n",
    "print('class before transform: ',label_encoder.classes_)"
   ]
  },
  {
   "cell_type": "code",
   "execution_count": null,
   "metadata": {
    "scrolled": true
   },
   "outputs": [],
   "source": [
    "dfwn1['Percip_Type_label_encode'] = target_label_after\n",
    "#dfwn['target_label_encode'] = target_label_after\n",
    "dfwn1[['Precip Type','Percip_Type_label_encode']].head()"
   ]
  },
  {
   "cell_type": "code",
   "execution_count": null,
   "metadata": {
    "scrolled": true
   },
   "outputs": [],
   "source": [
    "dfwn1.columns"
   ]
  },
  {
   "cell_type": "markdown",
   "metadata": {},
   "source": [
    "\n",
    "\n"
   ]
  },
  {
   "cell_type": "code",
   "execution_count": null,
   "metadata": {
    "scrolled": true
   },
   "outputs": [],
   "source": [
    "from sklearn.model_selection import train_test_split\n",
    "\n",
    "#features_data = df[['age']].values.reshape(-1,1)\n",
    "#features_data = df[['age','job_label_encode']].values\n",
    "features_data = dfwn1[['Wind Speed (km/h)',\n",
    "       'Humidity', 'Pressure (millibars)']].values\n",
    "target_data = dfwn1[['Percip_Type_label_encode']].values.reshape(-1,1)\n",
    "\n",
    "x_train,x_test,y_train,y_test = train_test_split(features_data,target_data,test_size=0.25)\n",
    "#x_train\n",
    "y_test = y_test.reshape(len(y_test))\n",
    "y_train = y_train.reshape(len(y_train))\n",
    "print('shape feature total: ',features_data.shape)\n",
    "print('shape feature train: ',x_train.shape)\n",
    "print('shape feature test: ',x_test.shape)\n",
    "print('shape target test: ',y_test.shape)"
   ]
  },
  {
   "cell_type": "code",
   "execution_count": null,
   "metadata": {
    "scrolled": false
   },
   "outputs": [],
   "source": [
    "x_train"
   ]
  },
  {
   "cell_type": "markdown",
   "metadata": {},
   "source": [
    "# Pendefinisian Model\n"
   ]
  },
  {
   "cell_type": "markdown",
   "metadata": {},
   "source": [
    "## Regresi Logistic"
   ]
  },
  {
   "cell_type": "code",
   "execution_count": null,
   "metadata": {},
   "outputs": [],
   "source": [
    "# create model\n",
    "from sklearn.linear_model import LogisticRegression # logistic regression\n",
    "#from sklearn.metrics import accuracy_score\n",
    "#from sklearn.metrics import classification_report, confusion_matrix\n",
    "from sklearn.model_selection import train_test_split\n",
    "from sklearn.preprocessing import StandardScaler\n",
    "model_Reg = LogisticRegression(solver='liblinear', C=0.05, multi_class='ovr',\n",
    "                           random_state=0)\n",
    "model_Reg.fit(x_train, y_train)"
   ]
  },
  {
   "cell_type": "code",
   "execution_count": null,
   "metadata": {},
   "outputs": [],
   "source": [
    "# prediksi output\n",
    "y_pred1 = model_Reg.predict(x_test)\n",
    "print(y_pred1)\n",
    "print('nilai akurasi menggunakan data training adalah', model_Reg.score(x_train, y_train))\n",
    "print('nilai akurasi  menggunakan data testing adalah', model_Reg.score(x_test, y_test))"
   ]
  },
  {
   "cell_type": "code",
   "execution_count": null,
   "metadata": {
    "scrolled": true
   },
   "outputs": [],
   "source": [
    "# confusion matrix\n",
    "from sklearn.metrics import classification_report, confusion_matrix\n",
    "cm = confusion_matrix(y_test, y_pred1)\n",
    "\n",
    "fig, ax = plt.subplots(figsize=(8, 8))\n",
    "ax.imshow(cm)\n",
    "ax.grid(False)\n",
    "ax.set_xlabel('Predicted outputs', color='black')\n",
    "ax.set_ylabel('Actual outputs', color='black')\n",
    "ax.xaxis.set(ticks=range(2))\n",
    "ax.yaxis.set(ticks=range(2))\n",
    "ax.set_ylim(1.5, -0.5)\n",
    "for i in range(2):\n",
    "    for j in range(2):\n",
    "        ax.text(j, i, cm[i, j], ha='center', va='center', color='white')\n",
    "plt.show()"
   ]
  },
  {
   "cell_type": "code",
   "execution_count": null,
   "metadata": {
    "scrolled": true
   },
   "outputs": [],
   "source": [
    "\n",
    "# summary model\n",
    "print(classification_report(y_test, y_pred1))"
   ]
  },
  {
   "cell_type": "code",
   "execution_count": null,
   "metadata": {},
   "outputs": [],
   "source": [
    "from sklearn import preprocessing # label encoder\n",
    "from sklearn.neighbors import KNeighborsClassifier #Import knearest neighbors Classifier model\n",
    "from sklearn import metrics #Import scikit-learn metrics module for accuracy calculation\n",
    "from sklearn.naive_bayes import GaussianNB #Import Gaussian Naive Bayes model\n",
    "from sklearn.tree import DecisionTreeClassifier # Import Decision Tree Classifier\n",
    "import sklearn.tree as tree #import visualizing decision tree\n",
    "#from IPython.display import Image\n",
    "from sklearn.ensemble import RandomForestClassifier #Import Random Forest Model\n",
    "from sklearn import svm #Import svm model"
   ]
  },
  {
   "cell_type": "markdown",
   "metadata": {},
   "source": [
    "## KNN"
   ]
  },
  {
   "cell_type": "code",
   "execution_count": null,
   "metadata": {},
   "outputs": [],
   "source": [
    "error = []\n",
    "\n",
    "# Calculating error for K values between 1 and 40\n",
    "for i in range(1, 25):  \n",
    "    knn = KNeighborsClassifier(n_neighbors=i)\n",
    "    knn.fit(x_train, y_train)\n",
    "    pred_i = knn.predict(x_test)\n",
    "    error.append(np.mean(pred_i != y_test))"
   ]
  },
  {
   "cell_type": "code",
   "execution_count": null,
   "metadata": {},
   "outputs": [],
   "source": [
    "# plotting error rate of K-Means\n",
    "plt.figure(figsize=(12, 6))  \n",
    "plt.plot(range(1, 25), error, color='red', linestyle='dashed', marker='o',  \n",
    "         markerfacecolor='blue', markersize=10)\n",
    "plt.title('Error Rate K')  \n",
    "plt.xlabel('K')  \n",
    "plt.ylabel('Error mean')"
   ]
  },
  {
   "cell_type": "code",
   "execution_count": null,
   "metadata": {},
   "outputs": [],
   "source": [
    "\n",
    "# Create KNN Classifier\n",
    "knn = KNeighborsClassifier(n_neighbors=10)\n",
    "\n",
    "# Train the model using the training sets\n",
    "knn.fit(x_train, y_train)\n",
    "\n",
    "# Predict the response for test dataset\n",
    "y_pred2 = knn.predict(x_test)\n",
    "\n",
    "# Model Accuracy, how often is the classifier correct?\n",
    "print(\"Accuracy:\",metrics.accuracy_score(y_test, y_pred2))"
   ]
  },
  {
   "cell_type": "markdown",
   "metadata": {},
   "source": [
    "## Naive Bayes"
   ]
  },
  {
   "cell_type": "code",
   "execution_count": null,
   "metadata": {},
   "outputs": [],
   "source": [
    "# Create a Gaussian Classifier\n",
    "model_nb = GaussianNB()\n",
    "\n",
    "# Train the model using the training sets\n",
    "model_nb.fit(x_train, y_train)\n",
    "\n",
    "# Predict the response for test dataset\n",
    "y_pred3 = model_nb.predict(x_test)\n",
    "\n",
    "# Model Accuracy, how often is the classifier correct?\n",
    "print(\"Accuracy:\",metrics.accuracy_score(y_test, y_pred3))"
   ]
  },
  {
   "cell_type": "markdown",
   "metadata": {},
   "source": [
    "## Decison Tree"
   ]
  },
  {
   "cell_type": "code",
   "execution_count": null,
   "metadata": {},
   "outputs": [],
   "source": [
    "from sklearn.metrics import accuracy_score\n",
    "modeldtc=DecisionTreeClassifier().fit(x_train,y_train)\n",
    "#modeldtc=DecisionTreeClassifier().fit(x_train,y_train)\n",
    "modeldtc"
   ]
  },
  {
   "cell_type": "code",
   "execution_count": null,
   "metadata": {},
   "outputs": [],
   "source": [
    "y_train_prediksi_dtc = modeldtc.predict(x_train)\n",
    "y_train_prediksi_dtc\n",
    "performance_modeldtc = modeldtc.score(x_train,y_train)\n",
    "#performance_modeldtc = modeldtc.score(x_train,y_train_prediksi_dtc)\n",
    "performance_modeldtc"
   ]
  },
  {
   "cell_type": "code",
   "execution_count": null,
   "metadata": {},
   "outputs": [],
   "source": [
    "y_pred4 = modeldtc.predict(x_test)\n",
    "akurasi_dtc = accuracy_score(y_test, y_pred4, normalize = True) \n",
    "akurasi_dtc"
   ]
  },
  {
   "cell_type": "markdown",
   "metadata": {},
   "source": [
    "## Random Forest"
   ]
  },
  {
   "cell_type": "code",
   "execution_count": null,
   "metadata": {},
   "outputs": [],
   "source": [
    "#from sklearn.naive_bayes import GaussianNB\n",
    "from sklearn.tree import DecisionTreeClassifier\n",
    "from sklearn.ensemble import RandomForestClassifier\n",
    "\n",
    "#model = GaussianNB().fit(x_train,y_train)\n",
    "#model = DecisionTreeClassifier().fit(x_train,y_train)\n",
    "model_RF = RandomForestClassifier().fit(x_train,y_train)\n",
    "model_RF\n",
    "#(31,33,2,54,5,6)"
   ]
  },
  {
   "cell_type": "code",
   "execution_count": null,
   "metadata": {},
   "outputs": [],
   "source": [
    "y_train_prediksi_rfc = model_RF.predict(x_train)\n",
    "y_train_prediksi_rfc\n",
    "performance_modelrfc = model_RF.score(x_train,y_train)\n",
    "#performance_modelrfc = modelrfc.score(x_train,y_train_prediksi_rfc)\n",
    "performance_modelrfc"
   ]
  },
  {
   "cell_type": "code",
   "execution_count": null,
   "metadata": {},
   "outputs": [],
   "source": [
    "y_pred5 = model_RF.predict(x_test)\n",
    "akurasi_rfc = accuracy_score(y_test, y_pred5, normalize = True) \n",
    "akurasi_rfc"
   ]
  },
  {
   "cell_type": "markdown",
   "metadata": {},
   "source": [
    "# Akurasi berbagai model"
   ]
  },
  {
   "cell_type": "code",
   "execution_count": null,
   "metadata": {
    "scrolled": true
   },
   "outputs": [],
   "source": [
    "print(\"Logistic Regression:\", accuracy_score(y_test, y_pred1))\n",
    "print(\"KNN:\", accuracy_score(y_test, y_pred2))\n",
    "print(\"Naive Bayes:\", accuracy_score(y_test, y_pred3))\n",
    "print(\"Decision Tree:\", accuracy_score(y_test, y_pred4))\n",
    "print(\"Random Forest\", accuracy_score(y_test, y_pred5))"
   ]
  },
  {
   "cell_type": "markdown",
   "metadata": {},
   "source": [
    "Model Random Forest merupakan model terbaik diantara 5 model tersebut."
   ]
  },
  {
   "cell_type": "markdown",
   "metadata": {},
   "source": [
    "\n"
   ]
  },
  {
   "cell_type": "code",
   "execution_count": null,
   "metadata": {},
   "outputs": [],
   "source": [
    "import numpy as np\n",
    "data1 = np.array([8,.9,1031]).reshape(1,-1)\n",
    "data1.shape"
   ]
  },
  {
   "cell_type": "code",
   "execution_count": null,
   "metadata": {},
   "outputs": [],
   "source": [
    "data2 = np.array([8,1,1031]).reshape(1,-1)\n"
   ]
  },
  {
   "cell_type": "markdown",
   "metadata": {},
   "source": [
    "\n"
   ]
  },
  {
   "cell_type": "code",
   "execution_count": null,
   "metadata": {},
   "outputs": [],
   "source": [
    "model_RF.predict(data1)"
   ]
  },
  {
   "cell_type": "code",
   "execution_count": null,
   "metadata": {},
   "outputs": [],
   "source": [
    "model_RF.predict(data2)"
   ]
  },
  {
   "cell_type": "markdown",
   "metadata": {},
   "source": [
    "\n"
   ]
  },
  {
   "cell_type": "code",
   "execution_count": null,
   "metadata": {},
   "outputs": [],
   "source": [
    "import pickle\n",
    "pickle.dump(model_RF,open('./model_RFC.pkl','wb'))"
   ]
  },
  {
   "cell_type": "markdown",
   "metadata": {},
   "source": [
    "## hasil pickle.dump dari model ini berukuran lebih dari 100 mb, sehingga kesulitan untuk upload di heroku, \n",
    "\n",
    "## lalu kami  menyiapkan file percobaan di github : https://github.com/alfansukmana04/coba \n",
    "## dengan file hasil pickle.dump yang < 1mb dan dapat dideploy di heroku dengan alamat:  https://model-2.herokuapp.com/"
   ]
  },
  {
   "cell_type": "code",
   "execution_count": null,
   "metadata": {},
   "outputs": [],
   "source": [
    "import pickle\n",
    "model_open = pickle.load(open('./model_RFC.pkl','rb'))"
   ]
  },
  {
   "cell_type": "code",
   "execution_count": null,
   "metadata": {},
   "outputs": [],
   "source": [
    "model_open.predict(data1)"
   ]
  },
  {
   "cell_type": "code",
   "execution_count": null,
   "metadata": {},
   "outputs": [],
   "source": [
    "\n",
    "model_open.predict(data2)"
   ]
  },
  {
   "cell_type": "markdown",
   "metadata": {},
   "source": [
    "# Kesimpulan\n",
    "Akhirnya diperoleh model yang mamanfaatkan machine learning sebagai pembangunnya yaitu Model Random Forest. Model ini dapat memberikan prediksi kondisi presipitasi berupa Hujan atau salju suatu waktu di kota Szeged jika diketahui 3 unsur penting cuaca yaitu Kecepatan Angin, Kelembapan dan Tekanan Udara."
   ]
  },
  {
   "cell_type": "markdown",
   "metadata": {
    "scrolled": true
   },
   "source": [
    "### seluruh file untuk keperluan model deployment, kecuali file pickle model_RFC.pkl diunggah pada github https://github.com/alfansukmana04/Final_Project"
   ]
  }
 ],
 "metadata": {
  "kernelspec": {
   "display_name": "Python 3",
   "language": "python",
   "name": "python3"
  },
  "language_info": {
   "codemirror_mode": {
    "name": "ipython",
    "version": 3
   },
   "file_extension": ".py",
   "mimetype": "text/x-python",
   "name": "python",
   "nbconvert_exporter": "python",
   "pygments_lexer": "ipython3",
   "version": "3.8.5"
  }
 },
 "nbformat": 4,
 "nbformat_minor": 4
}
